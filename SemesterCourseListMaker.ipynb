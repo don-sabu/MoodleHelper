{
 "cells": [
  {
   "cell_type": "code",
   "execution_count": 22,
   "id": "83c5219e",
   "metadata": {},
   "outputs": [],
   "source": [
    "import pandas as pd"
   ]
  },
  {
   "cell_type": "code",
   "execution_count": 23,
   "id": "d00ceb2e",
   "metadata": {},
   "outputs": [],
   "source": [
    "def csvmaker(no, dict):\n",
    "    df = pd.DataFrame(dict)\n",
    "    directory = 'Semester Subjects'\n",
    "    name = f'{directory}/Semester_{no}.csv'\n",
    "    df.to_csv(name,index=False)"
   ]
  },
  {
   "cell_type": "code",
   "execution_count": 34,
   "id": "db11dfa6",
   "metadata": {},
   "outputs": [
    {
     "name": "stdout",
     "output_type": "stream",
     "text": [
      "Enter the semester to which you want to enter data:3\n",
      "Enter the subjects of semester 3 following the below criteria\n",
      "Each subject has 4 attributes i.e.,\n",
      "* Slot ()\n",
      "* Subject id (MAT)\n",
      "* Sumject no (101)\n",
      "* Name\n",
      "Enter each of them seperately\n",
      "Enter '0' for slot if subjects for that semester has ended\n",
      "Slot:A\n",
      "Course ID:MAT\n",
      "Course No:203\n",
      "Name:DISCRETE MATHEMATICAL STRUCTURES\n",
      "Slot:B\n",
      "Course ID:CST\n",
      "Course No:201\n",
      "Name:DATA STRUCTURES\n",
      "Slot:C\n",
      "Course ID:CST\n",
      "Course No:203\n",
      "Name:LOGIC SYSTEM DESIGN\n",
      "Slot:D\n",
      "Course ID:CST\n",
      "Course No:205\n",
      "Name:OBJECT ORIENTED PROGRAMMING USING JAVA\n",
      "Slot:E\n",
      "Course ID:HUT\n",
      "Course No:200\n",
      "Name:PROFESSIONAL ETHICS\n",
      "Slot:F\n",
      "Course ID:MCN\n",
      "Course No:201\n",
      "Name:SUSTAINABLE ENGINEERING\n",
      "Slot:S\n",
      "Course ID:CSL\n",
      "Course No:201\n",
      "Name:DATA STRUCTURES LAB\n",
      "Slot:T\n",
      "Course ID:CSL\n",
      "Course No:203\n",
      "Name:OBJECT ORIENTED PROGRAMMING LAB (IN JAVA)\n",
      "Slot:0\n",
      "Enter the semester to which you want to enter data:END()\n"
     ]
    },
    {
     "ename": "ValueError",
     "evalue": "invalid literal for int() with base 10: 'END()'",
     "output_type": "error",
     "traceback": [
      "\u001b[1;31m---------------------------------------------------------------------------\u001b[0m",
      "\u001b[1;31mValueError\u001b[0m                                Traceback (most recent call last)",
      "Cell \u001b[1;32mIn[34], line 6\u001b[0m\n\u001b[0;32m      4\u001b[0m name \u001b[38;5;241m=\u001b[39m []\n\u001b[0;32m      5\u001b[0m \u001b[38;5;28;01mwhile\u001b[39;00m \u001b[38;5;28;01mTrue\u001b[39;00m:\n\u001b[1;32m----> 6\u001b[0m     i \u001b[38;5;241m=\u001b[39m \u001b[38;5;28;43mint\u001b[39;49m\u001b[43m(\u001b[49m\u001b[38;5;28;43minput\u001b[39;49m\u001b[43m(\u001b[49m\u001b[38;5;124;43m\"\u001b[39;49m\u001b[38;5;124;43mEnter the semester to which you want to enter data:\u001b[39;49m\u001b[38;5;124;43m\"\u001b[39;49m\u001b[43m)\u001b[49m\u001b[43m)\u001b[49m\n\u001b[0;32m      7\u001b[0m     \u001b[38;5;28mprint\u001b[39m(\u001b[38;5;124m\"\u001b[39m\u001b[38;5;124mEnter the subjects of semester\u001b[39m\u001b[38;5;124m\"\u001b[39m,i,\u001b[38;5;124m\"\u001b[39m\u001b[38;5;124mfollowing the below criteria\u001b[39m\u001b[38;5;124m\"\u001b[39m)\n\u001b[0;32m      8\u001b[0m     \u001b[38;5;28mprint\u001b[39m(\u001b[38;5;124m\"\u001b[39m\u001b[38;5;124mEach subject has 4 attributes i.e.,\u001b[39m\u001b[38;5;124m\"\u001b[39m)\n",
      "\u001b[1;31mValueError\u001b[0m: invalid literal for int() with base 10: 'END()'"
     ]
    }
   ],
   "source": [
    "slot =  []\n",
    "courseid =  []\n",
    "courseno =  []\n",
    "name = []\n",
    "while True:\n",
    "    i = int(input(\"Enter the semester to which you want to enter data:\"))\n",
    "    print(\"Enter the subjects of semester\",i,\"following the below criteria\")\n",
    "    print(\"Each subject has 4 attributes i.e.,\")\n",
    "    print(\"* Slot ()\\n* Subject id (MAT)\\n* Sumject no (101)\\n* Name\")\n",
    "    print(\"Enter each of them seperately\")\n",
    "    print(\"Enter '0' for slot if subjects for that semester has ended\")\n",
    "    while True:\n",
    "        s = input(\"Slot:\")\n",
    "        if s == '0':\n",
    "            break\n",
    "        slot.append(s)\n",
    "        courseid.append(input(\"Course ID:\"))\n",
    "        courseno.append(input(\"Course No:\"))\n",
    "        name.append(input(\"Name:\"))\n",
    "    csvmaker(str(i),{'slot':slot,'course_id':courseid,'course_no':courseno,'name':name})"
   ]
  },
  {
   "cell_type": "code",
   "execution_count": null,
   "id": "d72f14e0",
   "metadata": {},
   "outputs": [],
   "source": []
  }
 ],
 "metadata": {
  "kernelspec": {
   "display_name": "Python 3 (ipykernel)",
   "language": "python",
   "name": "python3"
  },
  "language_info": {
   "codemirror_mode": {
    "name": "ipython",
    "version": 3
   },
   "file_extension": ".py",
   "mimetype": "text/x-python",
   "name": "python",
   "nbconvert_exporter": "python",
   "pygments_lexer": "ipython3",
   "version": "3.11.2"
  }
 },
 "nbformat": 4,
 "nbformat_minor": 5
}
