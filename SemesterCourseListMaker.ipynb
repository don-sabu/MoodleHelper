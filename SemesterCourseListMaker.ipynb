{
 "cells": [
  {
   "cell_type": "code",
   "execution_count": 22,
   "id": "bc827af6",
   "metadata": {},
   "outputs": [],
   "source": [
    "import pandas as pd"
   ]
  },
  {
   "cell_type": "code",
   "execution_count": 23,
   "id": "9232ed3d",
   "metadata": {},
   "outputs": [],
   "source": [
    "def csvmaker(no, dict):\n",
    "    df = pd.DataFrame(dict)\n",
    "    directory = 'Semester Subjects'\n",
    "    name = f'{directory}/Semester_{no}.csv'\n",
    "    df.to_csv(name,index=False)"
   ]
  },
  {
   "cell_type": "code",
   "execution_count": 33,
   "id": "e840883a",
   "metadata": {},
   "outputs": [
    {
     "name": "stdout",
     "output_type": "stream",
     "text": [
      "Enter the subjects of semester 5 following the below criteria\n",
      "Each subject has 4 attributes i.e.,\n",
      "* Slot ()\n",
      "* Subject id (MAT)\n",
      "* Sumject no (101)\n",
      "* Name\n",
      "Enter each of them seperately\n",
      "Enter '0' for slot if subjects for that semester has ended\n",
      "Slot:A\n",
      "Course ID:ADT\n",
      "Course No:301\n",
      "Name:FOUNDATIONS OF DATA SCIENCE\n",
      "Slot:B\n",
      "Course ID:CST\n",
      "Course No:303\n",
      "Name:COMPUTER NETWORKS\n",
      "Slot:C\n",
      "Course ID:AMT\n",
      "Course No:305\n",
      "Name:INTRODUCTION TO MACHINE LEARNING\n",
      "Slot:D\n",
      "Course ID:AIT\n",
      "Course No:307\n",
      "Name:INTRODUCTION TO ARTIFICIAL INTELLIGENCE\n",
      "Slot:E\n",
      "Course ID:CST\n",
      "Course No:309\n",
      "Name:MANAGEMENTOF SOFTWARE SYSTEMS\n",
      "Slot:F\n",
      "Course ID:MCN\n",
      "Course No:301\n",
      "Name:DISASTER MANAGEMENT\n",
      "Slot:S\n",
      "Course ID:ADL\n",
      "Course No:331\n",
      "Name:AI & DATA SCIENCE LAB\n",
      "Slot:T\n",
      "Course ID:CST\n",
      "Course No:333\n",
      "Name:DATABASE MANAGEMENT SYSTEMS LAB\n",
      "Slot:0\n"
     ]
    }
   ],
   "source": [
    "slot =  []\n",
    "courseid =  []\n",
    "courseno =  []\n",
    "name = []\n",
    "while True:\n",
    "    i = int(input(\"Enter the semester to which you want to enter data:\"))\n",
    "    print(\"Enter the subjects of semester\",i,\"following the below criteria\")\n",
    "    print(\"Each subject has 4 attributes i.e.,\")\n",
    "    print(\"* Slot ()\\n* Subject id (MAT)\\n* Sumject no (101)\\n* Name\")\n",
    "    print(\"Enter each of them seperately\")\n",
    "    print(\"Enter '0' for slot if subjects for that semester has ended\")\n",
    "    while True:\n",
    "        s = input(\"Slot:\")\n",
    "        if s == '0':\n",
    "            break\n",
    "        slot.append(s)\n",
    "        courseid.append(input(\"Course ID:\"))\n",
    "        courseno.append(input(\"Course No:\"))\n",
    "        name.append(input(\"Name:\"))\n",
    "    csvmaker(str(i),{'slot':slot,'course_id':courseid,'course_no':courseno,'name':name})"
   ]
  }
 ],
 "metadata": {
  "kernelspec": {
   "display_name": "Python 3 (ipykernel)",
   "language": "python",
   "name": "python3"
  },
  "language_info": {
   "codemirror_mode": {
    "name": "ipython",
    "version": 3
   },
   "file_extension": ".py",
   "mimetype": "text/x-python",
   "name": "python",
   "nbconvert_exporter": "python",
   "pygments_lexer": "ipython3",
   "version": "3.11.2"
  }
 },
 "nbformat": 4,
 "nbformat_minor": 5
}
