{
 "cells": [
  {
   "cell_type": "code",
   "execution_count": 1,
   "id": "40e3a946",
   "metadata": {},
   "outputs": [],
   "source": [
    "import pandas as pd\n",
    "def csvmaker(dict):\n",
    "    df = pd.DataFrame(dict)\n",
    "    directory = 'SemesterCategory'\n",
    "    name = 'sample2.csv'\n",
    "    df.to_csv(name,index=False)\n",
    "\n",
    "d = {\n",
    "    \"username\":['21ad024'],\n",
    "    \"password\":['21ad@LMS'],\n",
    "    \"firstname\":['Don'],\n",
    "    \"lastname\":['Sabu'],\n",
    "    \"email\":['donsabu2025@ai.sjcetpalai.ac.in']\n",
    "}\n",
    "csvmaker(d)\n"
   ]
  },
  {
   "cell_type": "code",
   "execution_count": null,
   "id": "3a8183f9",
   "metadata": {},
   "outputs": [],
   "source": [
    "d = {\n",
    "    \"fullname\":['2021-25 Batch AMT305'],\n",
    "    \"shortname\":['21 AMT305'],\n",
    "    \"category_path\":['Semester 5 / AMT 305 - INTRODUCTION TO MACHINE LEARNING'],\n",
    "    \"enrolment_1\":['cohort'],\n",
    "    \"enrolment_1_cohortname\":['21AD']\n",
    "}"
   ]
  }
 ],
 "metadata": {
  "kernelspec": {
   "display_name": "Python 3 (ipykernel)",
   "language": "python",
   "name": "python3"
  },
  "language_info": {
   "codemirror_mode": {
    "name": "ipython",
    "version": 3
   },
   "file_extension": ".py",
   "mimetype": "text/x-python",
   "name": "python",
   "nbconvert_exporter": "python",
   "pygments_lexer": "ipython3",
   "version": "3.11.2"
  }
 },
 "nbformat": 4,
 "nbformat_minor": 5
}
