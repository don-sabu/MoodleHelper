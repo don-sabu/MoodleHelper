{
 "cells": [
  {
   "cell_type": "markdown",
   "id": "6b6f84d1",
   "metadata": {},
   "source": [
    "Generates short name and name for each course category for given semester"
   ]
  },
  {
   "cell_type": "code",
   "execution_count": 2,
   "id": "4b901397",
   "metadata": {},
   "outputs": [],
   "source": [
    "import pandas as pd"
   ]
  },
  {
   "cell_type": "code",
   "execution_count": 2,
   "id": "47bab5ce",
   "metadata": {},
   "outputs": [],
   "source": [
    "def csvmaker(no, dict):\n",
    "    df = pd.DataFrame(dict)\n",
    "    directory = 'Semester Category'\n",
    "    name = f'{directory}/Semester_{no}.csv'\n",
    "    df.to_csv(name,index=False)"
   ]
  },
  {
   "cell_type": "code",
   "execution_count": 3,
   "id": "cac4d2ef",
   "metadata": {},
   "outputs": [
    {
     "name": "stdout",
     "output_type": "stream",
     "text": [
      "Enter the semester to generat category1\n"
     ]
    }
   ],
   "source": [
    "s = int(input(\"Enter the semester to generat category: \"))\n",
    "if not(s>8 and s <1):\n",
    "    exit()\n",
    "path = f'Semester Subjects/Semester_{str(s)}.csv'\n",
    "df = pd.read_csv(path)\n",
    "cname = []\n",
    "idno = []\n",
    "for index, row in df.iterrows():\n",
    "    course_id = row['course_id']\n",
    "    course_no = row['course_no']\n",
    "    name = row['name']\n",
    "    cname.append(f'{course_id} {course_no} - {name}')\n",
    "    idno.append(f'{course_id}{course_no}')\n",
    "csvmaker(str(s), {'Category ID number':idno, 'Category name':cname})"
   ]
  },
  {
   "cell_type": "code",
   "execution_count": 8,
   "id": "4ae58a03",
   "metadata": {},
   "outputs": [
    {
     "name": "stdout",
     "output_type": "stream",
     "text": [
      "  Category ID number                                      Category name\n",
      "0             MAT101              MAT 101 - LINEAR ALGEBRA AND CALCULUS\n",
      "1             PHT100                    PHT 100 - ENGINEERING PHYSICS A\n",
      "2             EST100                    EST 100 - ENGINEERING MECHANICS\n",
      "3             EST130  EST 130 - BASICS OF ELECTRICAL & ELECTRONICS E...\n",
      "4             HUN101                              HUN 101 - LIFE SKILLS\n",
      "5             PHL120                  PHL 120 - ENGINEERING PHYSICS LAB\n",
      "6             ESL130        ESL 130 - ELECTRICAL & ELECTRONICS WORKSHOP\n"
     ]
    }
   ],
   "source": [
    "print(pd.read_csv('SemesterCategory/Semester_1.csv'))"
   ]
  },
  {
   "cell_type": "code",
   "execution_count": null,
   "id": "6e00ccc6",
   "metadata": {},
   "outputs": [],
   "source": []
  }
 ],
 "metadata": {
  "kernelspec": {
   "display_name": "Python 3 (ipykernel)",
   "language": "python",
   "name": "python3"
  },
  "language_info": {
   "codemirror_mode": {
    "name": "ipython",
    "version": 3
   },
   "file_extension": ".py",
   "mimetype": "text/x-python",
   "name": "python",
   "nbconvert_exporter": "python",
   "pygments_lexer": "ipython3",
   "version": "3.11.2"
  }
 },
 "nbformat": 4,
 "nbformat_minor": 5
}
