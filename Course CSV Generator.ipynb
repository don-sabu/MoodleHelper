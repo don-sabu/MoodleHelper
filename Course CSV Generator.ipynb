{
 "cells": [
  {
   "cell_type": "code",
   "execution_count": 11,
   "id": "297d59a4",
   "metadata": {},
   "outputs": [],
   "source": [
    "import pandas as pd"
   ]
  },
  {
   "cell_type": "code",
   "execution_count": 28,
   "id": "298c1b7e",
   "metadata": {},
   "outputs": [],
   "source": [
    "def csvmaker(path, dict):\n",
    "    df = pd.DataFrame(dict)\n",
    "    df.to_csv(path,index=False)\n",
    "    print('file generated')"
   ]
  },
  {
   "cell_type": "code",
   "execution_count": 29,
   "id": "2766bd10",
   "metadata": {},
   "outputs": [],
   "source": [
    "def generate_course(b, s):\n",
    "    write_directory = 'Course CSV List'\n",
    "    write_path = f'{write_directory}/20{b}-{b+4}_Batch_Semester_{s}.csv'\n",
    "    read_directory = 'Semester Subjects'\n",
    "    course_file_path = f'{read_directory}/Semester_{s}.csv'\n",
    "    courses = pd.read_csv(course_file_path)\n",
    "    f_name = []\n",
    "    s_name = []\n",
    "    c_path = []\n",
    "    for index, row in courses.iterrows():\n",
    "        c_id = row['course_id']\n",
    "        c_no = row['course_no']\n",
    "        c_name = row['name']\n",
    "        course_name = f'20{b}-{b+4} Batch {c_id}{c_no}'\n",
    "        f_name.append(course_name)\n",
    "        c_short_name = f'{b} {c_id}{c_no}'\n",
    "        s_name.append(c_short_name)\n",
    "        category_path = f'Semester {s} / {c_id} {c_no} - {c_name}'\n",
    "        c_path.append(category_path)\n",
    "    d = {\n",
    "        \"fullname\":f_name,\n",
    "        \"shortname\":s_name,\n",
    "        \"category_path\":c_path\n",
    "    }\n",
    "    csvmaker(write_path, d)"
   ]
  },
  {
   "cell_type": "code",
   "execution_count": 34,
   "id": "8911a803",
   "metadata": {},
   "outputs": [
    {
     "name": "stdout",
     "output_type": "stream",
     "text": [
      "Enter the batch [Type 20 for 2020-2025 batch] :21\n",
      "Enter the semester:5\n",
      "file generated\n"
     ]
    }
   ],
   "source": [
    "if __name__ == '__main__':\n",
    "    b = int(input(\"Enter the batch [Type 20 for 2020-2025 batch] :\"))\n",
    "    s = int(input(\"Enter the semester:\"))\n",
    "    generate_course(b,s)"
   ]
  },
  {
   "cell_type": "code",
   "execution_count": null,
   "id": "f403dcbd",
   "metadata": {},
   "outputs": [],
   "source": []
  }
 ],
 "metadata": {
  "kernelspec": {
   "display_name": "Python 3 (ipykernel)",
   "language": "python",
   "name": "python3"
  },
  "language_info": {
   "codemirror_mode": {
    "name": "ipython",
    "version": 3
   },
   "file_extension": ".py",
   "mimetype": "text/x-python",
   "name": "python",
   "nbconvert_exporter": "python",
   "pygments_lexer": "ipython3",
   "version": "3.11.2"
  }
 },
 "nbformat": 4,
 "nbformat_minor": 5
}
